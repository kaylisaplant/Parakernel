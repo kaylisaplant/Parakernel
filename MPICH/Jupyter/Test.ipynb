{
 "cells": [
  {
   "cell_type": "code",
   "execution_count": null,
   "id": "e0d87e0e",
   "metadata": {},
   "outputs": [],
   "source": [
    "from paraview.simple import *"
   ]
  },
  {
   "cell_type": "code",
   "execution_count": null,
   "id": "339bfd68",
   "metadata": {},
   "outputs": [],
   "source": [
    "sh  = Sphere(ThetaResolution=32, PhiResolution=32)\n",
    "rep = Show(sh, GetActiveView())\n",
    "rep.Representation='Wireframe'\n",
    "view = GetRenderView()"
   ]
  },
  {
   "cell_type": "code",
   "execution_count": null,
   "id": "71db7058",
   "metadata": {},
   "outputs": [],
   "source": [
    "from ipyparaview.widgets import PVDisplay"
   ]
  },
  {
   "cell_type": "code",
   "execution_count": null,
   "id": "419b3a43",
   "metadata": {},
   "outputs": [],
   "source": [
    "disp = PVDisplay(view)\n",
    "w = display(disp)"
   ]
  },
  {
   "cell_type": "code",
   "execution_count": null,
   "id": "66fa8dd1",
   "metadata": {},
   "outputs": [],
   "source": [
    "from ipywidgets import interact, IntSlider"
   ]
  },
  {
   "cell_type": "code",
   "execution_count": null,
   "id": "8d6dcb62",
   "metadata": {},
   "outputs": [],
   "source": [
    "def Sphere_resolution(res):\n",
    "    sh.ThetaResolution = res\n",
    "    sh.PhiResolution   = res\n",
    "    sh.UpdatePipeline()\n",
    "\n",
    "i = interact(Sphere_resolution, res=IntSlider(min=3, max=48, step=1, value=12))"
   ]
  }
 ],
 "metadata": {
  "kernelspec": {
   "display_name": "Python 3 (ipykernel)",
   "language": "python",
   "name": "python3"
  },
  "language_info": {
   "codemirror_mode": {
    "name": "ipython",
    "version": 3
   },
   "file_extension": ".py",
   "mimetype": "text/x-python",
   "name": "python",
   "nbconvert_exporter": "python",
   "pygments_lexer": "ipython3",
   "version": "3.9.15"
  }
 },
 "nbformat": 4,
 "nbformat_minor": 5
}
